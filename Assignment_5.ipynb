{
 "cells": [
  {
   "cell_type": "code",
   "execution_count": 4,
   "metadata": {},
   "outputs": [
    {
     "name": "stdout",
     "output_type": "stream",
     "text": [
      "Input a number to calculate the factorial : 2\n",
      "2\n"
     ]
    }
   ],
   "source": [
    "def factorial(n):\n",
    "    if n == 0:\n",
    "        return 1\n",
    "    else:\n",
    "        return n * factorial(n-1)\n",
    "n=int(input(\"Input a number to calculate the factorial : \"))\n",
    "print(factorial(n))"
   ]
  },
  {
   "cell_type": "code",
   "execution_count": 17,
   "metadata": {},
   "outputs": [
    {
     "name": "stdout",
     "output_type": "stream",
     "text": [
      "Original String :  Hello! I Am Neha Kausar => Student Of Python Programming\n",
      "No. of Upper case characters :  9\n",
      "No. of Lower case Characters :  35\n"
     ]
    }
   ],
   "source": [
    "def string_test(s):\n",
    "    d={\"UPPER_CASE\":0, \"LOWER_CASE\":0}\n",
    "    for c in s:\n",
    "        if c.isupper():\n",
    "           d[\"UPPER_CASE\"]+=1\n",
    "        elif c.islower():\n",
    "           d[\"LOWER_CASE\"]+=1\n",
    "        else:\n",
    "           pass\n",
    "    print (\"Original String : \", s)\n",
    "    print (\"No. of Upper case characters : \", d[\"UPPER_CASE\"])\n",
    "    print (\"No. of Lower case Characters : \", d[\"LOWER_CASE\"])\n",
    "\n",
    "string_test('Hello! I Am Neha Kausar => Student Of Python Programming')"
   ]
  },
  {
   "cell_type": "code",
   "execution_count": 19,
   "metadata": {},
   "outputs": [
    {
     "name": "stdout",
     "output_type": "stream",
     "text": [
      "[2, 4, 6, 8]\n"
     ]
    }
   ],
   "source": [
    "def is_even_num(l):\n",
    "    Even_numbers = []\n",
    "    for n in l:\n",
    "        if n % 2 == 0:\n",
    "            Even_numbers.append(n)\n",
    "    return Even_numbers\n",
    "print(is_even_num([1, 2, 3, 4, 5, 6, 7, 8, 9]))"
   ]
  },
  {
   "cell_type": "code",
   "execution_count": 27,
   "metadata": {},
   "outputs": [
    {
     "name": "stdout",
     "output_type": "stream",
     "text": [
      "True\n"
     ]
    }
   ],
   "source": [
    "def isPalindrome(string):\n",
    "\tleft_pos = 0\n",
    "\tright_pos = len(string) - 1\n",
    "\t\n",
    "\twhile right_pos >= left_pos:\n",
    "\t\tif not string[left_pos] == string[right_pos]:\n",
    "\t\t\treturn False\n",
    "\t\tleft_pos += 1\n",
    "\t\tright_pos -= 1\n",
    "\treturn True\n",
    "print(isPalindrome('madam')) "
   ]
  },
  {
   "cell_type": "code",
   "execution_count": 29,
   "metadata": {},
   "outputs": [
    {
     "name": "stdout",
     "output_type": "stream",
     "text": [
      "True\n"
     ]
    }
   ],
   "source": [
    "def test_prime(n):\n",
    "    if (n==1):\n",
    "        return False\n",
    "    elif (n==2):\n",
    "        return True;\n",
    "    else:\n",
    "        for x in range(2,n):\n",
    "            if(n % x==0):\n",
    "                return False\n",
    "        return True             \n",
    "print(test_prime(5))"
   ]
  },
  {
   "cell_type": "code",
   "execution_count": 44,
   "metadata": {},
   "outputs": [
    {
     "name": "stdout",
     "output_type": "stream",
     "text": [
      "Fruits Bought from Market are Orange:2kg\n",
      "Fruits Bought from Market are PomeGranate:1kg\n",
      "Fruits Bought from Market are Apple:2kg\n",
      "Fruits Bought from Market are Berries:1/2kg\n",
      "Vegetables Bought from Market are Cabbage:1kg\n",
      "Vegetables Bought from Market are Cauliflower:1kg\n",
      "Vegetables Bought from Market are Peas:1/2kg\n",
      "Vegetables Bought from Market are Carrots:1/2kg\n",
      "Vegetables Bought from Market are Onions:2kg\n",
      "Vegetables Bought from Market are Potato:1kg\n",
      "Vegetables Bought from Market are Tomato:2kg\n",
      "Vegetables Bought from Market are Garlic:1kg\n",
      "Vegetables Bought from Market are Ginger:1kg\n",
      "Meat Bought from Market is Beaf:2kg\n",
      "Meat Bought from Market is Mutton:3kg\n",
      "Meat Bought from Market is Chicken:2kg\n"
     ]
    }
   ],
   "source": [
    "def greet(*fruits) :\n",
    "    for fruit in fruits:\n",
    "        print(\"Fruits Bought from Market are\",fruit)\n",
    "          \n",
    "greet (\"Orange:2kg\") \n",
    "greet (\"PomeGranate:1kg\",\"Apple:2kg\",\"Berries:1/2kg\")\n",
    "\n",
    "def greet(*Vegetables):\n",
    "    for Vegi in Vegetables:\n",
    "        print(\"Vegetables Bought from Market are\",Vegi)\n",
    "        \n",
    "greet(\"Cabbage:1kg\")    \n",
    "greet(\"Cauliflower:1kg\",\"Peas:1/2kg\",\"Carrots:1/2kg\",\"Onions:2kg\",\"Potato:1kg\",\"Tomato:2kg\",\"Garlic:1kg\",\"Ginger:1kg\")\n",
    "\n",
    "def greet(*Meats) :\n",
    "    for Meat in Meats:\n",
    "        print(\"Meat Bought from Market is\",Meat)\n",
    "\n",
    "greet(\"Beaf:2kg\")\n",
    "greet(\"Mutton:3kg\",\"Chicken:2kg\")"
   ]
  },
  {
   "cell_type": "code",
   "execution_count": null,
   "metadata": {},
   "outputs": [],
   "source": []
  }
 ],
 "metadata": {
  "kernelspec": {
   "display_name": "Python 3",
   "language": "python",
   "name": "python3"
  },
  "language_info": {
   "codemirror_mode": {
    "name": "ipython",
    "version": 3
   },
   "file_extension": ".py",
   "mimetype": "text/x-python",
   "name": "python",
   "nbconvert_exporter": "python",
   "pygments_lexer": "ipython3",
   "version": "3.7.4"
  }
 },
 "nbformat": 4,
 "nbformat_minor": 2
}
