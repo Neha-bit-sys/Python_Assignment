{
 "cells": [
  {
   "cell_type": "code",
   "execution_count": 2,
   "metadata": {},
   "outputs": [
    {
     "name": "stdout",
     "output_type": "stream",
     "text": [
      "Neha\n",
      "Kausar\n",
      "18\n",
      "karachi\n",
      "{'qualification': 'high academic level'}\n"
     ]
    }
   ],
   "source": [
    "person = {\n",
    "    'first_name': 'Neha',\n",
    "    'last_name': 'Kausar',\n",
    "    'age': 18,\n",
    "    'city': 'karachi',\n",
    "    }\n",
    "\n",
    "print(person['first_name'])\n",
    "print(person['last_name'])\n",
    "print(person['age'])\n",
    "print(person['city'])\n",
    "\n",
    "qualification = {'qualification':'high academic level' }\n",
    "print(qualification)\n",
    "\n",
    "del qualification['qualification']"
   ]
  },
  {
   "cell_type": "code",
   "execution_count": 4,
   "metadata": {},
   "outputs": [
    {
     "name": "stdout",
     "output_type": "stream",
     "text": [
      "\n",
      "Karachi is in Pakistan.\n",
      "  It has  population of about 1490000.\n",
      "\n",
      "Tokyo is in Japan.\n",
      "  It has  population of about 78900.\n",
      "\n",
      "Delhi is in India.\n",
      "  It has  population of about 1003285.\n"
     ]
    }
   ],
   "source": [
    "cities = {\n",
    "    'Karachi': {\n",
    "        'country': 'Pakistan',\n",
    "        'population': 1490000,\n",
    "        },\n",
    "    'Tokyo': {\n",
    "        'country': 'Japan',\n",
    "        'population': 78900,\n",
    "    \n",
    "        },\n",
    "    'Delhi': {\n",
    "        'country': 'India',\n",
    "        'population': 1003285,\n",
    "        }\n",
    "    }\n",
    "for city, city_info in cities.items():\n",
    "    country = city_info['country'].title()\n",
    "    population = city_info['population']\n",
    "\n",
    "    print(\"\\n\" + city.title() + \" is in \" + country + \".\")\n",
    "    print(\"  It has  population of about \" + str(population) + \".\")"
   ]
  },
  {
   "cell_type": "code",
   "execution_count": null,
   "metadata": {},
   "outputs": [
    {
     "name": "stdout",
     "output_type": "stream",
     "text": [
      "How old are you?67\n",
      "  Your ticket is $15.\n",
      "How old are you?3\n",
      "  Your ticket is $10.\n",
      "How old are you?2\n",
      "  You get in free!\n",
      "How old are you?1\n",
      "  You get in free!\n"
     ]
    }
   ],
   "source": [
    "prompt = \"How old are you?\"\n",
    "\n",
    "while True:\n",
    "    age = input(prompt)\n",
    "    if age == 'quit':\n",
    "        break\n",
    "    age = int(age)\n",
    "\n",
    "    if age < 3:\n",
    "        print(\"  You get in free!\")\n",
    "    elif age < 13:\n",
    "        print(\"  Your ticket is $10.\")\n",
    "    else:\n",
    "        print(\"  Your ticket is $15.\")"
   ]
  },
  {
   "cell_type": "code",
   "execution_count": 2,
   "metadata": {},
   "outputs": [
    {
     "name": "stdout",
     "output_type": "stream",
     "text": [
      "One of my favorite books is 'Alice in Wonderland'.\n"
     ]
    }
   ],
   "source": [
    "\n",
    "def favorite_book(title):\n",
    "    print(f\"One of my favorite books is '{title}'.\")\n",
    "    \n",
    "favorite_book(\"Alice in Wonderland\")\n"
   ]
  },
  {
   "cell_type": "code",
   "execution_count": 3,
   "metadata": {},
   "outputs": [
    {
     "name": "stdout",
     "output_type": "stream",
     "text": [
      "\n",
      "\tYou have 3 chances to guess the hidden number (from 1 to 30): 23\n",
      "\tYour guess is greater than the hidden number !\n",
      "\n",
      "\tYou have 2 chances to guess the hidden number (from 1 to 30): 15\n",
      "\tYour guess is greater than the hidden number !\n",
      "\n",
      "\tYou have 1 chances to guess the hidden number (from 1 to 30): 10\n",
      "\tYour guess is less than the hidden number !\n",
      "\n",
      "\tYou Lost ! :(  Hidden Number was 27\n"
     ]
    }
   ],
   "source": [
    "import random as rd\n",
    "i = 3\n",
    "while i > 0:\n",
    "    correct_num = rd.randint(1,30)\n",
    "    user_num = int(input(f\"\\n\\tYou have {i} chances to guess the hidden number (from 1 to 30): \"))\n",
    "    \n",
    "    if user_num == correct_num:\n",
    "        print(\"\\t***Congrats ! Correct Guess, You Won*** :)\")\n",
    "        break\n",
    "    elif user_num > correct_num:\n",
    "        print(\"\\tYour guess is greater than the hidden number !\")\n",
    "        i -= 1\n",
    "    elif user_num < correct_num:\n",
    "        print(\"\\tYour guess is less than the hidden number !\")\n",
    "        i-=1\n",
    "    elif user_num < 1 or user_num > 30:\n",
    "        print(\"\\tPlease enter number in range 1 to 30 !\")\n",
    "        \n",
    "if i == 0:\n",
    "    print(f\"\\n\\tYou Lost ! :(  Hidden Number was {correct_num}\")"
   ]
  },
  {
   "cell_type": "code",
   "execution_count": null,
   "metadata": {},
   "outputs": [],
   "source": []
  }
 ],
 "metadata": {
  "kernelspec": {
   "display_name": "Python 3",
   "language": "python",
   "name": "python3"
  },
  "language_info": {
   "codemirror_mode": {
    "name": "ipython",
    "version": 3
   },
   "file_extension": ".py",
   "mimetype": "text/x-python",
   "name": "python",
   "nbconvert_exporter": "python",
   "pygments_lexer": "ipython3",
   "version": "3.7.4"
  }
 },
 "nbformat": 4,
 "nbformat_minor": 2
}
